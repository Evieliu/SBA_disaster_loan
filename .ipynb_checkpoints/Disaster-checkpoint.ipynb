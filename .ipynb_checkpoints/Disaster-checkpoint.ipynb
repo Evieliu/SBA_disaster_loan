{
 "cells": [
  {
   "cell_type": "code",
   "execution_count": 1,
   "metadata": {},
   "outputs": [
    {
     "data": {
      "text/plain": [
       "Disaster Nbr           object\n",
       "Disaster Type          object\n",
       "Disaster Name          object\n",
       "State                  object\n",
       "Service Office          int64\n",
       "Declaration Dt         object\n",
       "Declaration FY          int64\n",
       "Deadline Dt            object\n",
       "Rec Created Dt         object\n",
       "Declaration Type Cd    object\n",
       "dtype: object"
      ]
     },
     "execution_count": 1,
     "metadata": {},
     "output_type": "execute_result"
    }
   ],
   "source": [
    "import pandas as pd\n",
    "import numpy as np\n",
    "\n",
    "# import data\n",
    "loan = pd.read_csv('Disaster.csv')\n",
    "disaster = pd.read_csv('Dislook.csv')\n",
    "# check column data type\n",
    "loan.dtypes\n",
    "disaster.dtypes"
   ]
  },
  {
   "cell_type": "code",
   "execution_count": 2,
   "metadata": {
    "collapsed": true
   },
   "outputs": [],
   "source": [
    "# change column data type\n",
    "loan['LOANTYPE'] = loan['LOANTYPE'].astype(str)\n",
    "loan['ZIP'] = loan['ZIP'].astype(str)\n",
    "loan['LOANAPPVDT'] = loan['LOANAPPVDT'].astype(str)\n",
    "loan['SICCD'] = loan['SICCD'].astype(str)\n",
    "loan['NAICSCD'] = loan['NAICSCD'].astype(str)\n",
    "disaster['Service Office'] = disaster['Service Office'].astype(str)\n",
    "disaster['Declaration FY'] = disaster['Declaration FY'].astype(int)"
   ]
  },
  {
   "cell_type": "code",
   "execution_count": 3,
   "metadata": {
    "collapsed": true
   },
   "outputs": [],
   "source": [
    "# merge two datasets by primary key\n",
    "loan = loan.merge(disaster, left_on='Disaster Nbr', right_on='Disaster Nbr', how='left')"
   ]
  },
  {
   "cell_type": "code",
   "execution_count": 4,
   "metadata": {
    "collapsed": true
   },
   "outputs": [],
   "source": [
    "# clean column names\n",
    "loan = loan.rename(columns = {\n",
    "                                \"APPROVALAMT\":\"Approval_Amt\",\n",
    "                                \"LOANAPPVDT\":\"Approval_Dt\",\n",
    "                                \"LOANTYPE\":\"Loan_Type\",\n",
    "                                \"STATE\":\"Loan_state\",\n",
    "                                \"CITY\":\"Loan_city\",\n",
    "                                \"State\":\"Disaster_state\",\n",
    "                                \"Disaster Type\":\"Disaster_Type\",\n",
    "                                \"Disaster Nbr\":\"Disaster_Nbr\", \n",
    "                                \"Disaster Name\":\"Disaster_Name\", \n",
    "                                \"Service Office\":\"Service_Office\", \n",
    "                                \"Declaration Dt\":\"Declaration_Dt\",\n",
    "                                \"Declaration FY\":\"Declaration_FY\",\n",
    "                                \"Deadline Dt\": \"Deadline_Dt\",\n",
    "                                \"Rec Created Dt\": \"Rec_Created_Dt\",\n",
    "                                \"Declaration Type Cd\": \"Declaration_Type_Cd\"\n",
    "                            })\n",
    "# add approval year column\n",
    "loan['Approval_FY'] = loan.Approval_Dt.str[:4].astype(int)"
   ]
  },
  {
   "cell_type": "code",
   "execution_count": 5,
   "metadata": {
    "collapsed": true
   },
   "outputs": [],
   "source": [
    "# select home (not business) loan only\n",
    "loan = loan.loc[loan['Loan_Type'].isin(['1'])]\n",
    "# check records with no match\n",
    "loan[pd.isnull(loan['Declaration_FY'])].Approval_FY.unique()\n",
    "# all no match records are before 1990, getting rid of them won't affect the analysis\n",
    "loan = loan.loc[loan['Approval_FY'] > 1990]"
   ]
  },
  {
   "cell_type": "code",
   "execution_count": 6,
   "metadata": {
    "collapsed": true
   },
   "outputs": [],
   "source": [
    "# select disasters declared in past 10 years\n",
    "loan = loan.loc[loan['Declaration_FY'] >= 2006]"
   ]
  },
  {
   "cell_type": "code",
   "execution_count": 7,
   "metadata": {
    "collapsed": true
   },
   "outputs": [],
   "source": [
    "# transform key dates to correct data type\n",
    "loan['Approval_Dt2'] = pd.to_datetime(loan['Approval_Dt'], errors='coerce')\n",
    "loan['Deadline_Dt2'] = pd.to_datetime(loan['Deadline_Dt'], errors='coerce')\n",
    "loan['Declaration_Dt2'] = pd.to_datetime(loan['Declaration_Dt'], errors='coerce')"
   ]
  },
  {
   "cell_type": "code",
   "execution_count": 8,
   "metadata": {},
   "outputs": [
    {
     "data": {
      "text/plain": [
       "(0, 26)"
      ]
     },
     "execution_count": 8,
     "metadata": {},
     "output_type": "execute_result"
    }
   ],
   "source": [
    "# check if there is any null value for key dates\n",
    "loan[pd.isnull(loan['Approval_Dt2'])].shape\n",
    "loan[pd.isnull(loan['Deadline_Dt2'])].shape\n",
    "loan[pd.isnull(loan['Declaration_Dt2'])].shape"
   ]
  },
  {
   "cell_type": "code",
   "execution_count": 9,
   "metadata": {
    "collapsed": true
   },
   "outputs": [],
   "source": [
    "# calculate days between key dates\n",
    "loan['appv_ddl'] = (loan['Approval_Dt2'] - loan['Deadline_Dt2']).astype('timedelta64[D]')\n",
    "loan['appv_dcl'] = (loan['Approval_Dt2'] - loan['Declaration_Dt2']).astype('timedelta64[D]')\n",
    "loan['ddl_dcl'] = (loan['Deadline_Dt2'] - loan['Declaration_Dt2']).astype('timedelta64[D]')"
   ]
  },
  {
   "cell_type": "code",
   "execution_count": 10,
   "metadata": {},
   "outputs": [
    {
     "data": {
      "text/plain": [
       "(72529, 29)"
      ]
     },
     "execution_count": 10,
     "metadata": {},
     "output_type": "execute_result"
    }
   ],
   "source": [
    "# check if there is any minus number between dates\n",
    "loan.loc[loan['ddl_dcl'] < 0].shape\n",
    "loan.loc[loan['appv_dcl'] < 0].shape\n",
    "loan.loc[loan['appv_ddl'] < 0].shape"
   ]
  },
  {
   "cell_type": "code",
   "execution_count": 11,
   "metadata": {},
   "outputs": [
    {
     "data": {
      "text/html": [
       "<div>\n",
       "<style>\n",
       "    .dataframe thead tr:only-child th {\n",
       "        text-align: right;\n",
       "    }\n",
       "\n",
       "    .dataframe thead th {\n",
       "        text-align: left;\n",
       "    }\n",
       "\n",
       "    .dataframe tbody tr th {\n",
       "        vertical-align: top;\n",
       "    }\n",
       "</style>\n",
       "<table border=\"1\" class=\"dataframe\">\n",
       "  <thead>\n",
       "    <tr style=\"text-align: right;\">\n",
       "      <th></th>\n",
       "      <th>Approval_Amt</th>\n",
       "    </tr>\n",
       "    <tr>\n",
       "      <th>Disaster_Type</th>\n",
       "      <th></th>\n",
       "    </tr>\n",
       "  </thead>\n",
       "  <tbody>\n",
       "    <tr>\n",
       "      <th>8</th>\n",
       "      <td>3.064356e+09</td>\n",
       "    </tr>\n",
       "    <tr>\n",
       "      <th>6</th>\n",
       "      <td>1.505291e+09</td>\n",
       "    </tr>\n",
       "    <tr>\n",
       "      <th>B</th>\n",
       "      <td>5.120255e+08</td>\n",
       "    </tr>\n",
       "    <tr>\n",
       "      <th>C</th>\n",
       "      <td>5.049810e+08</td>\n",
       "    </tr>\n",
       "    <tr>\n",
       "      <th>5</th>\n",
       "      <td>1.991174e+08</td>\n",
       "    </tr>\n",
       "    <tr>\n",
       "      <th>2</th>\n",
       "      <td>5.152440e+07</td>\n",
       "    </tr>\n",
       "    <tr>\n",
       "      <th>4</th>\n",
       "      <td>9.941800e+06</td>\n",
       "    </tr>\n",
       "    <tr>\n",
       "      <th>9</th>\n",
       "      <td>1.779100e+06</td>\n",
       "    </tr>\n",
       "    <tr>\n",
       "      <th>7</th>\n",
       "      <td>2.373000e+05</td>\n",
       "    </tr>\n",
       "    <tr>\n",
       "      <th>E</th>\n",
       "      <td>1.964000e+05</td>\n",
       "    </tr>\n",
       "  </tbody>\n",
       "</table>\n",
       "</div>"
      ],
      "text/plain": [
       "               Approval_Amt\n",
       "Disaster_Type              \n",
       "8              3.064356e+09\n",
       "6              1.505291e+09\n",
       "B              5.120255e+08\n",
       "C              5.049810e+08\n",
       "5              1.991174e+08\n",
       "2              5.152440e+07\n",
       "4              9.941800e+06\n",
       "9              1.779100e+06\n",
       "7              2.373000e+05\n",
       "E              1.964000e+05"
      ]
     },
     "execution_count": 11,
     "metadata": {},
     "output_type": "execute_result"
    }
   ],
   "source": [
    "# which types of disaster incurred most SBA disaster loan?\n",
    "disaster_type_by_value = pd.pivot_table(loan, \n",
    "                          values=['Approval_Amt'],\n",
    "                          index=['Disaster_Type'],\n",
    "                          aggfunc=np.sum)\n",
    "disaster_type_by_value = disaster_type_by_value.sort_values(by=['Approval_Amt'], ascending=False)\n",
    "disaster_type_by_value\n",
    "# answer: hurricane"
   ]
  },
  {
   "cell_type": "code",
   "execution_count": 12,
   "metadata": {},
   "outputs": [
    {
     "data": {
      "text/plain": [
       "0.52387079696218308"
      ]
     },
     "execution_count": 12,
     "metadata": {},
     "output_type": "execute_result"
    }
   ],
   "source": [
    "# how much did hurricane relief make up the total SBA disaster loan in the past decade?\n",
    "hurricane_percentage = disaster_type_by_value['Approval_Amt'][0]/disaster_type_by_value['Approval_Amt'].sum()\n",
    "hurricane_percentage\n",
    "# answer: 52%"
   ]
  },
  {
   "cell_type": "code",
   "execution_count": 13,
   "metadata": {
    "collapsed": true
   },
   "outputs": [],
   "source": [
    "# get ready to analyze hurricane relief loans\n",
    "import matplotlib.pyplot as plt\n",
    "hurricane = loan.loc[loan['Disaster_Type'] == '8']"
   ]
  },
  {
   "cell_type": "code",
   "execution_count": 14,
   "metadata": {
    "collapsed": true
   },
   "outputs": [],
   "source": [
    "# correlation between loan amount and waiting time\n",
    "ax = hurricane.plot.scatter(x='appv_dcl',y='Approval_Amt',figsize=(12, 8),s=5,\n",
    "                            label='Days after disaster declaration',color='g')\n",
    "hurricane.plot.scatter(x='appv_ddl',y='Approval_Amt',figsize=(12, 8),s=5,\n",
    "                       label='Days after application deadline',color='r',ax=ax)\n",
    "plt.xlabel('Waiting days')\n",
    "plt.ylabel('Approved loan amount')\n",
    "plt.savefig('hurricane_scatter.png')\n",
    "# conclusion: no correlation"
   ]
  },
  {
   "cell_type": "code",
   "execution_count": 15,
   "metadata": {
    "collapsed": true
   },
   "outputs": [],
   "source": [
    "# distribution of waiting time after declaration\n",
    "plt.figure()\n",
    "ax = hurricane['appv_dcl'].plot.hist(bins=20,figsize=(12, 8))\n",
    "plt.xlabel('Waiting days')\n",
    "plt.savefig('hurricane_histogram.png')"
   ]
  },
  {
   "cell_type": "code",
   "execution_count": 16,
   "metadata": {},
   "outputs": [
    {
     "data": {
      "text/html": [
       "<div>\n",
       "<style>\n",
       "    .dataframe thead tr:only-child th {\n",
       "        text-align: right;\n",
       "    }\n",
       "\n",
       "    .dataframe thead th {\n",
       "        text-align: left;\n",
       "    }\n",
       "\n",
       "    .dataframe tbody tr th {\n",
       "        vertical-align: top;\n",
       "    }\n",
       "</style>\n",
       "<table border=\"1\" class=\"dataframe\">\n",
       "  <thead>\n",
       "    <tr style=\"text-align: right;\">\n",
       "      <th></th>\n",
       "      <th>Approval_Amt</th>\n",
       "    </tr>\n",
       "    <tr>\n",
       "      <th>Disaster_state</th>\n",
       "      <th></th>\n",
       "    </tr>\n",
       "  </thead>\n",
       "  <tbody>\n",
       "    <tr>\n",
       "      <th>NY</th>\n",
       "      <td>1.309567e+09</td>\n",
       "    </tr>\n",
       "    <tr>\n",
       "      <th>NJ</th>\n",
       "      <td>6.986553e+08</td>\n",
       "    </tr>\n",
       "    <tr>\n",
       "      <th>TX</th>\n",
       "      <td>5.444271e+08</td>\n",
       "    </tr>\n",
       "    <tr>\n",
       "      <th>FL</th>\n",
       "      <td>4.780985e+08</td>\n",
       "    </tr>\n",
       "    <tr>\n",
       "      <th>LA</th>\n",
       "      <td>2.536557e+08</td>\n",
       "    </tr>\n",
       "  </tbody>\n",
       "</table>\n",
       "</div>"
      ],
      "text/plain": [
       "                Approval_Amt\n",
       "Disaster_state              \n",
       "NY              1.309567e+09\n",
       "NJ              6.986553e+08\n",
       "TX              5.444271e+08\n",
       "FL              4.780985e+08\n",
       "LA              2.536557e+08"
      ]
     },
     "execution_count": 16,
     "metadata": {},
     "output_type": "execute_result"
    }
   ],
   "source": [
    "# compare between states\n",
    "# which states have received most SBA disaster loan?\n",
    "state_by_value = pd.pivot_table(loan, \n",
    "                          values=['Approval_Amt'],\n",
    "                          index=['Disaster_state'],\n",
    "                          aggfunc=np.sum)\n",
    "state_by_value.sort_values(by=['Approval_Amt'], ascending=False).head(5)\n",
    "# answer: NY, NJ, TX, FL, LA"
   ]
  },
  {
   "cell_type": "code",
   "execution_count": 17,
   "metadata": {
    "collapsed": true
   },
   "outputs": [],
   "source": [
    "# waiting time distribution of New York\n",
    "plt.figure()\n",
    "ny = loan.loc[loan['Disaster_state'] == 'NY']\n",
    "ny['appv_dcl'].plot.hist(bins=range(0, 1200, 20),figsize=(12, 8))\n",
    "plt.xlabel('Waiting days')\n",
    "plt.savefig('NY_histogram.png')"
   ]
  },
  {
   "cell_type": "code",
   "execution_count": 18,
   "metadata": {
    "collapsed": true
   },
   "outputs": [],
   "source": [
    "# waiting time distribution of New Jersey\n",
    "plt.figure()\n",
    "nj = loan.loc[loan['Disaster_state'] == 'NJ']\n",
    "nj['appv_dcl'].plot.hist(bins=range(0, 1200, 20),figsize=(12, 8))\n",
    "plt.xlabel('Waiting days')\n",
    "plt.savefig('NJ_histogram.png')"
   ]
  },
  {
   "cell_type": "code",
   "execution_count": 19,
   "metadata": {
    "collapsed": true
   },
   "outputs": [],
   "source": [
    "# waiting time distribution of Texas\n",
    "plt.figure()\n",
    "tx = loan.loc[loan['Disaster_state'] == 'TX']\n",
    "tx['appv_dcl'].plot.hist(bins=range(0, 1200, 20),figsize=(12, 8))\n",
    "plt.xlabel('Waiting days')\n",
    "plt.savefig('TX_histogram.png')"
   ]
  },
  {
   "cell_type": "code",
   "execution_count": 20,
   "metadata": {
    "collapsed": true
   },
   "outputs": [],
   "source": [
    "# waiting time distribution of Florida\n",
    "plt.figure()\n",
    "fl = loan.loc[loan['Disaster_state'] == 'FL']\n",
    "fl['appv_dcl'].plot.hist(bins=range(0, 1200, 20),figsize=(12, 8))\n",
    "plt.xlabel('Waiting days')\n",
    "plt.savefig('FL_histogram.png')"
   ]
  },
  {
   "cell_type": "code",
   "execution_count": 21,
   "metadata": {
    "collapsed": true
   },
   "outputs": [],
   "source": [
    "# waiting time distribution of Louisiana\n",
    "plt.figure()\n",
    "la = loan.loc[loan['Disaster_state'] == 'LA']\n",
    "la['appv_dcl'].plot.hist(bins=range(0, 1200, 20),figsize=(12, 8))\n",
    "plt.xlabel('Waiting days')\n",
    "plt.savefig('LA_histogram.png')"
   ]
  },
  {
   "cell_type": "code",
   "execution_count": 22,
   "metadata": {
    "collapsed": true
   },
   "outputs": [],
   "source": [
    "# waiting time distribution of Puerto Rico (added for news value)\n",
    "plt.figure()\n",
    "pr = loan.loc[loan['Disaster_state'] == 'PR']\n",
    "pr['appv_dcl'].plot.hist(bins=range(0, 1200, 20),figsize=(12, 8))\n",
    "plt.xlabel('Waiting days')\n",
    "plt.savefig('PR_histogram.png')\n",
    "\n",
    "# conclusion: Florida applicants weren't getting SBA loans as fast as other states."
   ]
  },
  {
   "cell_type": "code",
   "execution_count": 23,
   "metadata": {},
   "outputs": [
    {
     "data": {
      "text/plain": [
       "85"
      ]
     },
     "execution_count": 23,
     "metadata": {},
     "output_type": "execute_result"
    }
   ],
   "source": [
    "fl_100 = fl.loc[fl['appv_dcl'] >= 100]\n",
    "fl_100.shape[0]*100/fl.shape[0]\n",
    "# 85% of SBA loan applicants in Florida had to wait more than three months for approval"
   ]
  },
  {
   "cell_type": "code",
   "execution_count": 24,
   "metadata": {},
   "outputs": [
    {
     "data": {
      "text/plain": [
       "31"
      ]
     },
     "execution_count": 24,
     "metadata": {},
     "output_type": "execute_result"
    }
   ],
   "source": [
    "ny_100 = ny.loc[ny['appv_dcl'] >= 100]\n",
    "ny_100.shape[0]*100/ny.shape[0]\n",
    "# only 31% New York applicants waited that long"
   ]
  },
  {
   "cell_type": "code",
   "execution_count": 25,
   "metadata": {},
   "outputs": [
    {
     "data": {
      "text/html": [
       "<div>\n",
       "<style>\n",
       "    .dataframe thead tr:only-child th {\n",
       "        text-align: right;\n",
       "    }\n",
       "\n",
       "    .dataframe thead th {\n",
       "        text-align: left;\n",
       "    }\n",
       "\n",
       "    .dataframe tbody tr th {\n",
       "        vertical-align: top;\n",
       "    }\n",
       "</style>\n",
       "<table border=\"1\" class=\"dataframe\">\n",
       "  <thead>\n",
       "    <tr style=\"text-align: right;\">\n",
       "      <th></th>\n",
       "      <th>BORROWERNAME</th>\n",
       "      <th>Loan_state</th>\n",
       "      <th>Loan_city</th>\n",
       "      <th>Disaster_Nbr</th>\n",
       "      <th>Disaster_Name</th>\n",
       "      <th>Disaster_Type</th>\n",
       "      <th>Declaration_Dt2</th>\n",
       "      <th>Deadline_Dt2</th>\n",
       "      <th>Approval_Dt2</th>\n",
       "      <th>Approval_Amt</th>\n",
       "    </tr>\n",
       "  </thead>\n",
       "  <tbody>\n",
       "    <tr>\n",
       "      <th>10520</th>\n",
       "      <td>JASON D. KLIEWE</td>\n",
       "      <td>NJ</td>\n",
       "      <td>RUMSON</td>\n",
       "      <td>133678</td>\n",
       "      <td>Hurricane Sandy</td>\n",
       "      <td>8</td>\n",
       "      <td>2012-10-30</td>\n",
       "      <td>2012-12-31</td>\n",
       "      <td>2013-08-19</td>\n",
       "      <td>561900.0</td>\n",
       "    </tr>\n",
       "    <tr>\n",
       "      <th>448731</th>\n",
       "      <td>MICHAEL  BROOKS</td>\n",
       "      <td>GA</td>\n",
       "      <td>Atlanta</td>\n",
       "      <td>118866</td>\n",
       "      <td>Severe Storms and Flooding</td>\n",
       "      <td>6</td>\n",
       "      <td>2009-09-24</td>\n",
       "      <td>2009-11-23</td>\n",
       "      <td>2010-05-26</td>\n",
       "      <td>442700.0</td>\n",
       "    </tr>\n",
       "    <tr>\n",
       "      <th>1013661</th>\n",
       "      <td>LESLIE MCCURDY</td>\n",
       "      <td>NY</td>\n",
       "      <td>HOWARD BEACH</td>\n",
       "      <td>133658</td>\n",
       "      <td>Hurricane Sandy</td>\n",
       "      <td>8</td>\n",
       "      <td>2012-10-30</td>\n",
       "      <td>2012-12-31</td>\n",
       "      <td>2012-12-01</td>\n",
       "      <td>440000.0</td>\n",
       "    </tr>\n",
       "    <tr>\n",
       "      <th>2003</th>\n",
       "      <td>EDWARD C, JR &amp; SUSAN A GREER.</td>\n",
       "      <td>TN</td>\n",
       "      <td>KINGSTON SPRINGS</td>\n",
       "      <td>121596</td>\n",
       "      <td>Severe Storms, Flooding, Straight-line Winds, ...</td>\n",
       "      <td>6</td>\n",
       "      <td>2010-05-04</td>\n",
       "      <td>2010-07-06</td>\n",
       "      <td>2010-06-25</td>\n",
       "      <td>440000.0</td>\n",
       "    </tr>\n",
       "    <tr>\n",
       "      <th>359334</th>\n",
       "      <td>WIN C HLAING</td>\n",
       "      <td>MN</td>\n",
       "      <td>LA CRESCENT</td>\n",
       "      <td>110106</td>\n",
       "      <td>Severe Storms and Flooding</td>\n",
       "      <td>6</td>\n",
       "      <td>2007-08-26</td>\n",
       "      <td>2007-10-25</td>\n",
       "      <td>2007-11-01</td>\n",
       "      <td>440000.0</td>\n",
       "    </tr>\n",
       "  </tbody>\n",
       "</table>\n",
       "</div>"
      ],
      "text/plain": [
       "                          BORROWERNAME Loan_state         Loan_city  \\\n",
       "10520                  JASON D. KLIEWE         NJ            RUMSON   \n",
       "448731                 MICHAEL  BROOKS         GA           Atlanta   \n",
       "1013661                 LESLIE MCCURDY         NY      HOWARD BEACH   \n",
       "2003     EDWARD C, JR & SUSAN A GREER.         TN  KINGSTON SPRINGS   \n",
       "359334                    WIN C HLAING         MN       LA CRESCENT   \n",
       "\n",
       "        Disaster_Nbr                                      Disaster_Name  \\\n",
       "10520         133678                                    Hurricane Sandy   \n",
       "448731        118866                         Severe Storms and Flooding   \n",
       "1013661       133658                                    Hurricane Sandy   \n",
       "2003          121596  Severe Storms, Flooding, Straight-line Winds, ...   \n",
       "359334        110106                         Severe Storms and Flooding   \n",
       "\n",
       "        Disaster_Type Declaration_Dt2 Deadline_Dt2 Approval_Dt2  Approval_Amt  \n",
       "10520               8      2012-10-30   2012-12-31   2013-08-19      561900.0  \n",
       "448731              6      2009-09-24   2009-11-23   2010-05-26      442700.0  \n",
       "1013661             8      2012-10-30   2012-12-31   2012-12-01      440000.0  \n",
       "2003                6      2010-05-04   2010-07-06   2010-06-25      440000.0  \n",
       "359334              6      2007-08-26   2007-10-25   2007-11-01      440000.0  "
      ]
     },
     "execution_count": 25,
     "metadata": {},
     "output_type": "execute_result"
    }
   ],
   "source": [
    "# what's the largest disaster loan approved in the past decade?\n",
    "loan.sort_values(by=['Approval_Amt'],ascending=False)[['BORROWERNAME','Loan_state','Loan_city',\n",
    "                                                       'Disaster_Nbr','Disaster_Name', 'Disaster_Type',\n",
    "                                                       'Declaration_Dt2','Deadline_Dt2',\n",
    "                                                       'Approval_Dt2','Approval_Amt'\n",
    "                                                      ]].head(5)\n",
    "# answer: the largest loan is worth $561,900"
   ]
  },
  {
   "cell_type": "code",
   "execution_count": 26,
   "metadata": {
    "scrolled": true
   },
   "outputs": [
    {
     "data": {
      "text/html": [
       "<div>\n",
       "<style>\n",
       "    .dataframe thead tr:only-child th {\n",
       "        text-align: right;\n",
       "    }\n",
       "\n",
       "    .dataframe thead th {\n",
       "        text-align: left;\n",
       "    }\n",
       "\n",
       "    .dataframe tbody tr th {\n",
       "        vertical-align: top;\n",
       "    }\n",
       "</style>\n",
       "<table border=\"1\" class=\"dataframe\">\n",
       "  <thead>\n",
       "    <tr style=\"text-align: right;\">\n",
       "      <th></th>\n",
       "      <th>BORROWERNAME</th>\n",
       "      <th>Loan_state</th>\n",
       "      <th>Loan_city</th>\n",
       "      <th>Disaster_Nbr</th>\n",
       "      <th>Disaster_Name</th>\n",
       "      <th>Disaster_Type</th>\n",
       "      <th>Declaration_Dt2</th>\n",
       "      <th>Deadline_Dt2</th>\n",
       "      <th>Approval_Dt2</th>\n",
       "      <th>Approval_Amt</th>\n",
       "      <th>appv_dcl</th>\n",
       "    </tr>\n",
       "  </thead>\n",
       "  <tbody>\n",
       "    <tr>\n",
       "      <th>380222</th>\n",
       "      <td>WILLIAM F. GRELLA</td>\n",
       "      <td>NY</td>\n",
       "      <td>CHESTNUT RIDGE</td>\n",
       "      <td>133658</td>\n",
       "      <td>Hurricane Sandy</td>\n",
       "      <td>8</td>\n",
       "      <td>2012-10-30</td>\n",
       "      <td>2012-12-31</td>\n",
       "      <td>2015-10-26</td>\n",
       "      <td>300200.0</td>\n",
       "      <td>1091.0</td>\n",
       "    </tr>\n",
       "    <tr>\n",
       "      <th>497958</th>\n",
       "      <td>GUY POSTHUMA</td>\n",
       "      <td>WI</td>\n",
       "      <td>Waupun</td>\n",
       "      <td>112886</td>\n",
       "      <td>Severe Storms, Tornadoes, and Flooding</td>\n",
       "      <td>6</td>\n",
       "      <td>2008-06-14</td>\n",
       "      <td>2008-08-13</td>\n",
       "      <td>2011-04-26</td>\n",
       "      <td>68800.0</td>\n",
       "      <td>1046.0</td>\n",
       "    </tr>\n",
       "    <tr>\n",
       "      <th>930579</th>\n",
       "      <td>SCOTT E. GUSMER</td>\n",
       "      <td>NJ</td>\n",
       "      <td>POINT PLEASANT BEACH</td>\n",
       "      <td>133678</td>\n",
       "      <td>Hurricane Sandy</td>\n",
       "      <td>8</td>\n",
       "      <td>2012-10-30</td>\n",
       "      <td>2012-12-31</td>\n",
       "      <td>2015-09-10</td>\n",
       "      <td>40000.0</td>\n",
       "      <td>1045.0</td>\n",
       "    </tr>\n",
       "    <tr>\n",
       "      <th>619116</th>\n",
       "      <td>ROBERT G. STANLEY</td>\n",
       "      <td>NY</td>\n",
       "      <td>STATEN ISLAND</td>\n",
       "      <td>133658</td>\n",
       "      <td>Hurricane Sandy</td>\n",
       "      <td>8</td>\n",
       "      <td>2012-10-30</td>\n",
       "      <td>2012-12-31</td>\n",
       "      <td>2015-06-22</td>\n",
       "      <td>20900.0</td>\n",
       "      <td>965.0</td>\n",
       "    </tr>\n",
       "    <tr>\n",
       "      <th>980739</th>\n",
       "      <td>BURNAL L. LAWRENCE, SR.</td>\n",
       "      <td>LA</td>\n",
       "      <td>SLIDELL</td>\n",
       "      <td>132718</td>\n",
       "      <td>Hurricane Isaac</td>\n",
       "      <td>8</td>\n",
       "      <td>2012-08-31</td>\n",
       "      <td>2012-10-30</td>\n",
       "      <td>2015-04-10</td>\n",
       "      <td>275300.0</td>\n",
       "      <td>952.0</td>\n",
       "    </tr>\n",
       "  </tbody>\n",
       "</table>\n",
       "</div>"
      ],
      "text/plain": [
       "                   BORROWERNAME Loan_state             Loan_city Disaster_Nbr  \\\n",
       "380222        WILLIAM F. GRELLA         NY        CHESTNUT RIDGE       133658   \n",
       "497958             GUY POSTHUMA         WI                Waupun       112886   \n",
       "930579          SCOTT E. GUSMER         NJ  POINT PLEASANT BEACH       133678   \n",
       "619116        ROBERT G. STANLEY         NY         STATEN ISLAND       133658   \n",
       "980739  BURNAL L. LAWRENCE, SR.         LA               SLIDELL       132718   \n",
       "\n",
       "                                 Disaster_Name Disaster_Type Declaration_Dt2  \\\n",
       "380222                         Hurricane Sandy             8      2012-10-30   \n",
       "497958  Severe Storms, Tornadoes, and Flooding             6      2008-06-14   \n",
       "930579                         Hurricane Sandy             8      2012-10-30   \n",
       "619116                         Hurricane Sandy             8      2012-10-30   \n",
       "980739                         Hurricane Isaac             8      2012-08-31   \n",
       "\n",
       "       Deadline_Dt2 Approval_Dt2  Approval_Amt  appv_dcl  \n",
       "380222   2012-12-31   2015-10-26      300200.0    1091.0  \n",
       "497958   2008-08-13   2011-04-26       68800.0    1046.0  \n",
       "930579   2012-12-31   2015-09-10       40000.0    1045.0  \n",
       "619116   2012-12-31   2015-06-22       20900.0     965.0  \n",
       "980739   2012-10-30   2015-04-10      275300.0     952.0  "
      ]
     },
     "execution_count": 26,
     "metadata": {},
     "output_type": "execute_result"
    }
   ],
   "source": [
    "# who's been waiting the longest to get their SBA disaster loan approved?\n",
    "loan.sort_values(by=['appv_dcl'],ascending=False)[['BORROWERNAME','Loan_state','Loan_city',\n",
    "                                                       'Disaster_Nbr','Disaster_Name', 'Disaster_Type',\n",
    "                                                       'Declaration_Dt2','Deadline_Dt2',\n",
    "                                                       'Approval_Dt2','Approval_Amt','appv_dcl'\n",
    "                                                      ]].head(5)\n",
    "# answer: William Grella from New York waited almost three years for the loan approval after Hurricane Sandy"
   ]
  }
 ],
 "metadata": {
  "kernelspec": {
   "display_name": "Python 2",
   "language": "python",
   "name": "python2"
  },
  "language_info": {
   "codemirror_mode": {
    "name": "ipython",
    "version": 2
   },
   "file_extension": ".py",
   "mimetype": "text/x-python",
   "name": "python",
   "nbconvert_exporter": "python",
   "pygments_lexer": "ipython2",
   "version": "2.7.13"
  }
 },
 "nbformat": 4,
 "nbformat_minor": 2
}
